{
 "cells": [
  {
   "cell_type": "code",
   "execution_count": 1,
   "metadata": {},
   "outputs": [
    {
     "name": "stderr",
     "output_type": "stream",
     "text": [
      "Using TensorFlow backend.\n"
     ]
    }
   ],
   "source": [
    "from dependencies import *\n",
    "\n",
    "userdata = pd.read_csv('data/yelp/user.csv', low_memory=False)\n",
    "uid2num = {k:v for k,v in zip(userdata['user_id'].values,range(len(userdata['user_id'].values)))}\n",
    "num2uid = {k:v for v,k in uid2num.items()}\n",
    "\n",
    "udata = pickle.load(open( \"udata.p\", \"rb\" ))\n",
    "adj = {uid2num[k]:[uid2num[x] for x in v.split(', ') if x in uid2num] for k,v in zip(udata['user_id'].values,udata['friends'].values)}\n"
   ]
  },
  {
   "cell_type": "code",
   "execution_count": 2,
   "metadata": {},
   "outputs": [],
   "source": [
    "components = pickle.load(open( \"graph_components_apr29.p\", \"rb\" ))\n",
    "#Get the training and the test connected component\n",
    "gc = components[0]\n",
    "\n",
    "def giveagraph(gc,start=0,end=10000):\n",
    "\ttemp = nx.Graph()\n",
    "\ttemp.add_nodes_from(list(gc.nodes)[start:end])\n",
    "\ttemp.add_edges_from([(i,j) for i in temp.nodes for j in gc[i] if j in temp.nodes ])\n",
    "\treturn max(nx.connected_component_subgraphs(temp), key=len)\n",
    "\n",
    "#traing = giveagraph(gc)\n",
    "#testg = giveagraph(gc,10000,20000)\n",
    "\n"
   ]
  },
  {
   "cell_type": "code",
   "execution_count": 3,
   "metadata": {},
   "outputs": [],
   "source": [
    "def giveagraph_nodes(gc,nodes):\n",
    "\ttemp = nx.Graph()\n",
    "\ttemp.add_nodes_from(nodes)\n",
    "\ttemp.add_edges_from([(i,j) for i in nodes for j in gc[i] if j in nodes ])\n",
    "\treturn max(nx.connected_component_subgraphs(temp), key=len)\n",
    "\n",
    "import random\n",
    "nodes  = list(gc.nodes)[0:20000]\n",
    "random.Random(4).shuffle(nodes)\n",
    "traing = giveagraph_nodes(gc,nodes[:10000])\n",
    "testg = giveagraph_nodes(gc,nodes[10000:])\n"
   ]
  },
  {
   "cell_type": "code",
   "execution_count": 4,
   "metadata": {},
   "outputs": [
    {
     "data": {
      "text/plain": [
       "7151"
      ]
     },
     "execution_count": 4,
     "metadata": {},
     "output_type": "execute_result"
    }
   ],
   "source": [
    "len(testg.nodes)"
   ]
  },
  {
   "cell_type": "code",
   "execution_count": 5,
   "metadata": {},
   "outputs": [],
   "source": [
    "def sample_edges(g,possize=100,negsize=100,full = False):\n",
    "    negexamples = list(nx.non_edges(g))\n",
    "    totaledges = len(g.edges())\n",
    "    if full:\n",
    "        posset = np.array(g.edges())\n",
    "        negsize = totaledges\n",
    "    else:\n",
    "        np.random.seed(4)\n",
    "        posset = np.random.choice(np.array(g.edges()), possize)\n",
    "    np.random.seed(4)\n",
    "    negindices = np.random.choice(range(len(negexamples)), negsize)\n",
    "    negset = np.array(negexamples)[negindices]\n",
    "    return posset,negset\n",
    "\n",
    "postrainset, negtrainset = sample_edges(traing, full = True)\n",
    "postestset, negtestset = sample_edges(testg, full = True)"
   ]
  },
  {
   "cell_type": "code",
   "execution_count": 6,
   "metadata": {},
   "outputs": [
    {
     "data": {
      "text/plain": [
       "71839"
      ]
     },
     "execution_count": 6,
     "metadata": {},
     "output_type": "execute_result"
    }
   ],
   "source": [
    "len(postestset)"
   ]
  },
  {
   "cell_type": "code",
   "execution_count": 7,
   "metadata": {},
   "outputs": [],
   "source": [
    "ids  = udata.to_numpy()[:,[0]]\n",
    "features = udata.to_numpy()[:,[2,4,5,6,7,9,10,11,12,13,14,15,16,17,18,19,20,21]]\n",
    "uid2feat = dict(zip(ids.reshape(-1),features))"
   ]
  },
  {
   "cell_type": "code",
   "execution_count": 8,
   "metadata": {},
   "outputs": [],
   "source": [
    "uid2fset = {a:set(b.split(', ')) for a,b in zip(udata['user_id'].values,udata['friends'].values)}\n",
    "uid2bidset = {a:b for a,b in zip(udata['user_id'].values,udata['bidset'].values)}\n",
    "uid2cityset = {a:b for a,b in zip(udata['user_id'].values,udata['cityset'].values)}\n",
    "\n",
    "def givenumcommon(uid2set,uid1,uid2):\n",
    "    a = uid2set[uid1]\n",
    "    b = uid2set[uid2]\n",
    "    return len(a.intersection(b))\n",
    "\n",
    "def givenumunion(uid2set,uid1,uid2):\n",
    "    a = uid2set[uid1]\n",
    "    b = uid2set[uid2]\n",
    "    return len(a.union(b))"
   ]
  },
  {
   "cell_type": "code",
   "execution_count": 9,
   "metadata": {},
   "outputs": [],
   "source": [
    "def givejaccard(uidset,uid1,uid2):\n",
    "    a = givenumcommon(uidset,uid1,uid2)\n",
    "    b = givenumunion(uidset,uid1,uid2)\n",
    "    return np.round((a*1.0)/(b*1.0),2)\n",
    "\n",
    "def giveprefattach(uid2set,uid1,uid2):\n",
    "    a = uid2set[uid1]\n",
    "    b = uid2set[uid2]\n",
    "    return (len(a) * len(b))"
   ]
  },
  {
   "cell_type": "code",
   "execution_count": 10,
   "metadata": {},
   "outputs": [],
   "source": [
    "def giveedgefeats(pairlist,cfriends=True,cbids=True,ccities= True):\n",
    "    X = []\n",
    "    for p in pairlist:\n",
    "        id0 = num2uid[p[0]]\n",
    "        id1 = num2uid[p[1]]\n",
    "        feats = []\n",
    "        if cfriends:\n",
    "            feats.append(givenumcommon(uid2fset,id0,id1))\n",
    "        if cbids:\n",
    "            feats.append(givenumcommon(uid2bidset,id0,id1))\n",
    "        if ccities:\n",
    "            feats.append(givenumcommon(uid2cityset,id0,id1))\n",
    "        X.append(feats)\n",
    "    return np.array(X)\n",
    "\n",
    "def giveedgefeats_jaccard(pairlist):\n",
    "    X = []\n",
    "    for p in pairlist:\n",
    "        id0 = num2uid[p[0]]\n",
    "        id1 = num2uid[p[1]]\n",
    "        feats = []\n",
    "        feats.append(givejaccard(uid2fset,id0,id1))\n",
    "        feats.append(givejaccard(uid2bidset,id0,id1))\n",
    "        feats.append(givejaccard(uid2cityset,id0,id1))\n",
    "        X.append(feats)\n",
    "    return np.array(X)\n",
    "\n",
    "def giveedgefeats_prefattach(pairlist):\n",
    "    X = []\n",
    "    for p in pairlist:\n",
    "        id0 = num2uid[p[0]]\n",
    "        id1 = num2uid[p[1]]\n",
    "        feats = []\n",
    "        feats.append(giveprefattach(uid2fset,id0,id1))\n",
    "        feats.append(giveprefattach(uid2bidset,id0,id1))\n",
    "        feats.append(giveprefattach(uid2cityset,id0,id1))\n",
    "        X.append(feats)\n",
    "    return np.array(X)\n",
    "\n",
    "def giveedgefeats_all(pairlist):\n",
    "    X = []\n",
    "    for p in pairlist:\n",
    "        id0 = num2uid[p[0]]\n",
    "        id1 = num2uid[p[1]]\n",
    "        feats = []\n",
    "        feats.append(givenumcommon(uid2fset,id0,id1))\n",
    "        feats.append(givenumcommon(uid2bidset,id0,id1))\n",
    "        feats.append(givenumcommon(uid2cityset,id0,id1))\n",
    "        feats.append(givejaccard(uid2fset,id0,id1))\n",
    "        feats.append(givejaccard(uid2bidset,id0,id1))\n",
    "        feats.append(givejaccard(uid2cityset,id0,id1))\n",
    "        X.append(feats)\n",
    "    return np.array(X)\n",
    "\n",
    "def giveedgedata(posset,negset,cfriends=True,cbids=True,ccities= True):\n",
    "    X1  = giveedgefeats(posset,cfriends,cbids,ccities)\n",
    "    X2  = giveedgefeats(negset,cfriends,cbids,ccities)\n",
    "    X = np.concatenate((X1,X2),0)\n",
    "    y = np.concatenate((np.ones((X1.shape[0],1)),np.zeros((X2.shape[0],1))),0)\n",
    "    X,y = shuffle(X,y)\n",
    "    return X,y\n",
    "\n",
    "def giveedgedata_jaccard(posset,negset):\n",
    "    X1  = giveedgefeats_jaccard(posset)\n",
    "    X2  = giveedgefeats_jaccard(negset)\n",
    "    X = np.concatenate((X1,X2),0)\n",
    "    y = np.concatenate((np.ones((X1.shape[0],1)),np.zeros((X2.shape[0],1))),0)\n",
    "    X,y = shuffle(X,y)\n",
    "    return X,y\n",
    "\n",
    "def giveedgedata_prefattach(posset,negset):\n",
    "    X1  = giveedgefeats_prefattach(posset)\n",
    "    X2  = giveedgefeats_prefattach(negset)\n",
    "    X = np.concatenate((X1,X2),0)\n",
    "    y = np.concatenate((np.ones((X1.shape[0],1)),np.zeros((X2.shape[0],1))),0)\n",
    "    X,y = shuffle(X,y)\n",
    "    return X,y\n",
    "\n",
    "\n",
    "def giveedgedata_all(posset,negset):\n",
    "    X1  = giveedgefeats_all(posset)\n",
    "    X2  = giveedgefeats_all(negset)\n",
    "    X = np.concatenate((X1,X2),0)\n",
    "    y = np.concatenate((np.ones((X1.shape[0],1)),np.zeros((X2.shape[0],1))),0)\n",
    "    X,y = shuffle(X,y)\n",
    "    return X,y\n",
    "\n",
    "def givenodefeats(pairlist):\n",
    "    X = []\n",
    "    for p in pairlist:\n",
    "        id0 = num2uid[p[0]]\n",
    "        id1 = num2uid[p[1]]\n",
    "        X.append(np.concatenate([uid2feat[id0], uid2feat[id1]]))\n",
    "    return np.array(X)\n",
    "\n",
    "def givenodedata(posset,negset):\n",
    "    X1  = givenodefeats(posset)\n",
    "    X2  = givenodefeats(negset)\n",
    "    X = np.concatenate((X1,X2),0)\n",
    "    y = np.concatenate((np.ones((X1.shape[0],1)),np.zeros((X2.shape[0],1))),0)\n",
    "    X,y = shuffle(X,y)\n",
    "    return X,y\n",
    "\n",
    "\n",
    "def givedatausingbothfeats(posset,negset):\n",
    "    X1  = np.concatenate((giveedgefeats(posset),givenodefeats(posset)),1)\n",
    "    X2  = np.concatenate((giveedgefeats(negset),givenodefeats(negset)),1)\n",
    "    X = np.concatenate((X1,X2),0)\n",
    "    y = np.concatenate((np.ones((X1.shape[0],1)),np.zeros((X2.shape[0],1))),0)\n",
    "    X,y = shuffle(X,y)\n",
    "    return X,y\n",
    "\n",
    "\n",
    "def givedatausingbothfeats_jaccard(posset,negset):\n",
    "    X1  = np.concatenate((giveedgefeats_jaccard(posset),givenodefeats(posset)),1)\n",
    "    X2  = np.concatenate((giveedgefeats_jaccard(negset),givenodefeats(negset)),1)\n",
    "    X = np.concatenate((X1,X2),0)\n",
    "    y = np.concatenate((np.ones((X1.shape[0],1)),np.zeros((X2.shape[0],1))),0)\n",
    "    X,y = shuffle(X,y)\n",
    "    return X,y\n",
    "\n",
    "def givefeats(pairlist):\n",
    "    X = []\n",
    "    for p in pairlist:\n",
    "        id0 = p[0]\n",
    "        id1 = p[1]\n",
    "        X.append([id0,id1])\n",
    "    return np.array(X)\n",
    "    \n",
    "def givedata(posset,negset):\n",
    "    X1  = givefeats(posset)\n",
    "    X2  = givefeats(negset)\n",
    "    X = np.concatenate((X1,X2),0)\n",
    "    y = np.concatenate((np.ones((X1.shape[0],1)),np.zeros((X2.shape[0],1))),0)\n",
    "    X,y = shuffle(X,y)\n",
    "    return X,y"
   ]
  },
  {
   "cell_type": "code",
   "execution_count": 11,
   "metadata": {},
   "outputs": [],
   "source": [
    "def giveresults(Ytest,ytestpred):\n",
    "    print(\"Accuracy \",np.round(accuracy_score(Ytest,ytestpred),3))\n",
    "    print(\"Precision \",np.round(precision_score(Ytest,ytestpred),3))\n",
    "    print(\"Recall \",np.round(recall_score(Ytest,ytestpred),3))\n",
    "    print(\"F1 Score \",np.round(f1_score(Ytest,ytestpred),3))"
   ]
  },
  {
   "cell_type": "code",
   "execution_count": 12,
   "metadata": {},
   "outputs": [],
   "source": [
    "import os\n",
    "os.environ['KMP_DUPLICATE_LIB_OK']='True'"
   ]
  },
  {
   "cell_type": "code",
   "execution_count": 13,
   "metadata": {},
   "outputs": [],
   "source": [
    "from keras.models import Sequential\n",
    "from keras.layers import Dense\n",
    "\n",
    "from numpy.random import seed\n",
    "seed(3)\n",
    "from tensorflow import set_random_seed\n",
    "set_random_seed(3)"
   ]
  },
  {
   "cell_type": "code",
   "execution_count": 14,
   "metadata": {},
   "outputs": [],
   "source": [
    "import torch\n",
    "import torch.nn as nn\n",
    "from torch.nn import init\n",
    "import torch.nn.functional as F\n",
    "from torch.autograd import Variable\n",
    "import random\n",
    "random.seed(3)"
   ]
  },
  {
   "cell_type": "code",
   "execution_count": 15,
   "metadata": {},
   "outputs": [],
   "source": [
    "class Encoder(nn.Module):\n",
    "    \"\"\"\n",
    "    Encodes a node's using 'convolutional' GraphSage approach\n",
    "    \"\"\"\n",
    "    def __init__(self, features, feature_dim, embed_dim, adj_lists, aggregator, n2mat, num_sample=10, base_model=None): \n",
    "        super(Encoder, self).__init__()\n",
    "        self.features = features\n",
    "        self.feat_dim = feature_dim\n",
    "        self.adj_lists = adj_lists\n",
    "        self.aggregator = aggregator\n",
    "        self.num_sample = num_sample\n",
    "        if base_model != None:\n",
    "            self.base_model = base_model\n",
    "        self.embed_dim = embed_dim\n",
    "        self.weight = nn.Parameter(torch.FloatTensor(embed_dim, 2 * self.feat_dim))\n",
    "        init.xavier_uniform_(self.weight)\n",
    "        self.n2mat = n2mat\n",
    "    def forward(self, nodes):\n",
    "        \"\"\"\n",
    "        Generates embeddings for a batch of nodes.\n",
    "        nodes     -- list of nodes\n",
    "        \"\"\"\n",
    "        #print(self)\n",
    "        neigh_feats = self.aggregator.forward(nodes, [set(self.adj_lists[int(node)]) for node in nodes], self.num_sample)\n",
    "        #self_feats = self.features(torch.LongTensor([self.n2mat[x] for x in nodes]))\n",
    "        self_feats = self.features[[self.n2mat[x] for x in nodes]]\n",
    "        combined = torch.cat([self_feats, neigh_feats], dim=1)\n",
    "        combined = F.relu(self.weight.mm(combined.t()))\n",
    "        return combined"
   ]
  },
  {
   "cell_type": "code",
   "execution_count": 16,
   "metadata": {},
   "outputs": [],
   "source": [
    "class MeanAggregator(nn.Module):\n",
    "    \"\"\"\n",
    "    Aggregates a node's embeddings using mean of neighbors' embeddings\n",
    "    \"\"\"\n",
    "    def __init__(self, features,n2mat): \n",
    "        super(MeanAggregator, self).__init__()\n",
    "        self.features = features\n",
    "        self.n2mat = n2mat\n",
    "        \n",
    "    def forward(self, nodes, to_neighs, num_sample=10):\n",
    "        \"\"\"\n",
    "        nodes --- list of nodes in a batch\n",
    "        to_neighs --- list of sets, each set is the set of neighbors for node in batch\n",
    "        num_sample --- number of neighbors to sample. No sampling if None.\n",
    "        \"\"\"\n",
    "        # Local pointers to functions (speed hack)\n",
    "        #print(self)\n",
    "        _set = set\n",
    "        samp_neighs = to_neighs    \n",
    "        unique_nodes_list = list(set.union(*samp_neighs))\n",
    "        unique_nodes = {n:i for i,n in enumerate(unique_nodes_list)}\n",
    "        mask = Variable(torch.zeros(len(samp_neighs), len(unique_nodes)))\n",
    "        column_indices = [unique_nodes[n] for samp_neigh in samp_neighs for n in samp_neigh]   \n",
    "        row_indices = [i for i in range(len(samp_neighs)) for j in range(len(samp_neighs[i]))]\n",
    "        mask[row_indices, column_indices] = 1\n",
    "        num_neigh = mask.sum(1, keepdim=True)\n",
    "        mask = mask.div(num_neigh)\n",
    "        #embed_matrix = self.features(torch.LongTensor([self.n2mat[x] for x in unique_nodes_list]))\n",
    "        embed_matrix = self.features[[self.n2mat[x] for x in unique_nodes_list]]\n",
    "        to_feats = mask.mm(embed_matrix)\n",
    "        return to_feats"
   ]
  },
  {
   "cell_type": "code",
   "execution_count": 17,
   "metadata": {},
   "outputs": [],
   "source": [
    "class SupervisedGraphSage(nn.Module):\n",
    "\n",
    "    def __init__(self, enc):\n",
    "        super(SupervisedGraphSage, self).__init__()\n",
    "        self.enc = enc\n",
    "        self.fc1 = nn.Linear(2*enc.embed_dim,24)\n",
    "        self.fc2 = nn.Linear(24,16)\n",
    "        self.fc3 = nn.Linear(16,2)\n",
    "    def forward(self, nodes,test=False):\n",
    "        self.enc = updateenc(self.enc,test)\n",
    "        embeds1 = self.enc(nodes[:,0])\n",
    "        embeds2 = self.enc(nodes[:,1])\n",
    "        embeds = torch.cat([embeds1, embeds2], dim=0)\n",
    "        hidden1 = F.relu(self.fc1(embeds.t()))\n",
    "        hidden2 = F.relu(self.fc2(hidden1))\n",
    "        return self.fc3(hidden2)"
   ]
  },
  {
   "cell_type": "code",
   "execution_count": 18,
   "metadata": {},
   "outputs": [],
   "source": [
    "ttg = nx.Graph()\n",
    "ttg.add_edges_from(list(traing.edges(data=True))+list(testg.edges(data=True)))\n",
    "ttg.add_nodes_from(list(traing.nodes(data=True))+list(testg.nodes(data=True)))\n",
    "feat_data = np.array([uid2feat[num2uid[x]] for x in ttg]).astype(dtype = 'float32')\n",
    "nodes = list(ttg.nodes())\n",
    "testnodes = list(testg.nodes())\n",
    "trainnodes = list(traing.nodes())\n",
    "n2mat = {i:j for j,i in enumerate(ttg.nodes)}\n",
    "mat2n = {i:j for j,i in n2mat.items()}\n",
    "features = torch.FloatTensor(feat_data)"
   ]
  },
  {
   "cell_type": "code",
   "execution_count": 67,
   "metadata": {},
   "outputs": [],
   "source": [
    "agg1 = MeanAggregator(features,n2mat)\n",
    "enc1 = Encoder(features, 18, 200, ttg, agg1,n2mat)\n",
    "agg2 = MeanAggregator(enc1(nodes).t(), n2mat)\n",
    "enc2 = Encoder(enc1(nodes).t(), 200, 200, ttg, agg2,n2mat, base_model=enc1)"
   ]
  },
  {
   "cell_type": "code",
   "execution_count": 68,
   "metadata": {},
   "outputs": [],
   "source": [
    "def updateenc(enc,test=False):\n",
    "    enc.features = enc1(nodes).t()\n",
    "    enc.aggregator.features = enc1(nodes).t()\n",
    "    return enc"
   ]
  },
  {
   "cell_type": "code",
   "execution_count": 69,
   "metadata": {},
   "outputs": [
    {
     "name": "stdout",
     "output_type": "stream",
     "text": [
      "0 tensor(12.1194)\n",
      "5 tensor(2.1481)\n",
      "10 tensor(1.8680)\n",
      "15 tensor(0.6402)\n",
      "20 tensor(0.8914)\n",
      "25 tensor(0.6949)\n",
      "30 tensor(0.4631)\n",
      "35 tensor(0.4281)\n",
      "40 tensor(0.8112)\n",
      "45 tensor(0.6108)\n",
      "50 tensor(0.8303)\n",
      "55 tensor(0.6601)\n",
      "60 tensor(0.5160)\n",
      "65 tensor(0.4429)\n",
      "70 tensor(0.5097)\n",
      "75 tensor(0.5132)\n",
      "80 tensor(0.4438)\n",
      "85 tensor(0.7127)\n",
      "90 tensor(0.3345)\n",
      "95 tensor(0.6316)\n",
      "100 tensor(0.4373)\n",
      "105 tensor(0.4390)\n",
      "110 tensor(0.3215)\n",
      "115 tensor(0.4320)\n",
      "120 tensor(0.5834)\n",
      "125 tensor(0.4152)\n",
      "130 tensor(0.4387)\n",
      "135 tensor(0.4835)\n",
      "140 tensor(0.5142)\n",
      "145 tensor(0.3479)\n",
      "150 tensor(0.5260)\n",
      "155 tensor(0.4975)\n",
      "160 tensor(0.4927)\n",
      "165 tensor(0.3684)\n",
      "170 tensor(0.3698)\n",
      "175 tensor(0.3411)\n",
      "180 tensor(0.3636)\n",
      "185 tensor(0.4347)\n",
      "190 tensor(0.3988)\n",
      "195 tensor(0.3137)\n"
     ]
    }
   ],
   "source": [
    "graphsage = SupervisedGraphSage(enc2)\n",
    "x,y = givedata(postrainset,negtrainset)\n",
    "xtest,ytest = givedata(postestset,negtestset)\n",
    "\n",
    "optimizer = torch.optim.Adam(filter(lambda p : p.requires_grad, graphsage.parameters()))\n",
    "times = []\n",
    "criterion = nn.CrossEntropyLoss()\n",
    "for batch in range(200):\n",
    "    batch_x = x[:200]\n",
    "    batch_y = y[:200]\n",
    "    x,y = shuffle(x,y)\n",
    "    optimizer.zero_grad()\n",
    "    loss = criterion(graphsage(batch_x),Variable(torch.LongTensor(batch_y)).squeeze())\n",
    "    loss.backward(retain_graph=True)\n",
    "    optimizer.step()\n",
    "    if batch %5 == 0:\n",
    "        print(batch, loss.data)"
   ]
  },
  {
   "cell_type": "code",
   "execution_count": 70,
   "metadata": {},
   "outputs": [
    {
     "name": "stdout",
     "output_type": "stream",
     "text": [
      "Accuracy  0.838\n",
      "Precision  0.811\n",
      "Recall  0.857\n",
      "F1 Score  0.833\n"
     ]
    }
   ],
   "source": [
    "test_out = graphsage(xtest)\n",
    "ypred = test_out.data.numpy().argmax(axis=1)\n",
    "giveresults(ypred,ytest)"
   ]
  },
  {
   "cell_type": "code",
   "execution_count": 71,
   "metadata": {},
   "outputs": [],
   "source": [
    "def giveencfeats(pairlist):\n",
    "    X = []\n",
    "    for p in pairlist:\n",
    "        feats = []\n",
    "        feats.append(id2enc[p[0]])\n",
    "        feats.append(id2enc[p[1]])\n",
    "        X.append(np.concatenate(feats))\n",
    "    return np.array(X)"
   ]
  },
  {
   "cell_type": "code",
   "execution_count": 72,
   "metadata": {},
   "outputs": [],
   "source": [
    "def giveencdata(posset,negset):\n",
    "    X1  = giveencfeats(posset)\n",
    "    X2  = giveencfeats(negset)\n",
    "    X = np.concatenate((X1,X2),0)\n",
    "    y = np.concatenate((np.ones((X1.shape[0],1)),np.zeros((X2.shape[0],1))),0)\n",
    "    X,y = shuffle(X,y)\n",
    "    return X,y"
   ]
  },
  {
   "cell_type": "code",
   "execution_count": 73,
   "metadata": {},
   "outputs": [],
   "source": [
    "id2enc = {  mat2n[i]:j for i,j in enumerate(graphsage.enc(list(nodes)).detach().numpy().T)}"
   ]
  },
  {
   "cell_type": "code",
   "execution_count": 74,
   "metadata": {},
   "outputs": [],
   "source": [
    "def giveencfeats_edge(pairlist):\n",
    "    edgefeats = giveedgefeats_all(pairlist)\n",
    "    X = []\n",
    "    for p in pairlist:\n",
    "        feats = []\n",
    "        feats.append(id2enc[p[0]])\n",
    "        feats.append(id2enc[p[1]])\n",
    "        X.append(np.concatenate(feats))\n",
    "    X=np.array(X)\n",
    "    return np.concatenate([X,edgefeats],1)"
   ]
  },
  {
   "cell_type": "code",
   "execution_count": 75,
   "metadata": {},
   "outputs": [],
   "source": [
    "def giveencdata_edge(posset,negset):\n",
    "    X1  = giveencfeats_edge(posset)\n",
    "    X2  = giveencfeats_edge(negset)\n",
    "    X = np.concatenate((X1,X2),0)\n",
    "    y = np.concatenate((np.ones((X1.shape[0],1)),np.zeros((X2.shape[0],1))),0)\n",
    "    X,y = shuffle(X,y)\n",
    "    return X,y"
   ]
  },
  {
   "cell_type": "code",
   "execution_count": 76,
   "metadata": {},
   "outputs": [],
   "source": [
    "def giveencdata_node(posset,negset):\n",
    "    X1  = np.concatenate((giveencfeats(posset),givenodefeats(posset)),1)\n",
    "    X2  = np.concatenate((giveencfeats(negset),givenodefeats(negset)),1)\n",
    "    X = np.concatenate((X1,X2),0)\n",
    "    y = np.concatenate((np.ones((X1.shape[0],1)),np.zeros((X2.shape[0],1))),0)\n",
    "    X,y = shuffle(X,y)\n",
    "    return X,y"
   ]
  },
  {
   "cell_type": "code",
   "execution_count": 77,
   "metadata": {},
   "outputs": [],
   "source": [
    "def givedatausingbothfeats_enc(posset,negset):\n",
    "    X1  = np.concatenate((giveencfeats_edge(posset),givenodefeats(posset)),1)\n",
    "    X2  = np.concatenate((giveencfeats_edge(negset),givenodefeats(negset)),1)\n",
    "    X = np.concatenate((X1,X2),0)\n",
    "    y = np.concatenate((np.ones((X1.shape[0],1)),np.zeros((X2.shape[0],1))),0)\n",
    "    X,y = shuffle(X,y)\n",
    "    return X,y"
   ]
  },
  {
   "cell_type": "code",
   "execution_count": 78,
   "metadata": {},
   "outputs": [],
   "source": [
    "def give_log_reg_results(Xtrain,ytrain,Xtest,Ytest):\n",
    "    model = LogisticRegression(solver = 'lbfgs')\n",
    "    model.fit(Xtrain,ytrain.reshape(-1,))\n",
    "    ytestpred = model.predict(Xtest)\n",
    "    giveresults(Ytest,ytestpred)"
   ]
  },
  {
   "cell_type": "code",
   "execution_count": 79,
   "metadata": {},
   "outputs": [],
   "source": [
    "def givemymodel(indim):\n",
    "    model = Sequential()\n",
    "    a = int(2*indim/3)\n",
    "    b = int(2*a/3)\n",
    "    model.add(Dense(a, input_dim=indim, kernel_initializer='uniform', activation='relu'))\n",
    "    model.add(Dense(b, kernel_initializer='uniform', activation='relu'))\n",
    "    model.add(Dense(1, kernel_initializer='uniform', activation='sigmoid'))\n",
    "    model.compile(loss='binary_crossentropy', optimizer='adam', metrics=['accuracy'])\n",
    "    return model"
   ]
  },
  {
   "cell_type": "code",
   "execution_count": 80,
   "metadata": {},
   "outputs": [],
   "source": [
    "xtrain_enc,ytrain_enc = giveencdata(postrainset,negtrainset)\n",
    "xtest_enc,ytest_enc = giveencdata(postestset,negtestset)"
   ]
  },
  {
   "cell_type": "code",
   "execution_count": 82,
   "metadata": {},
   "outputs": [
    {
     "name": "stdout",
     "output_type": "stream",
     "text": [
      "Epoch 1/10\n",
      " - 12s - loss: 0.8036 - acc: 0.8342\n",
      "Epoch 2/10\n",
      " - 11s - loss: 0.3221 - acc: 0.8627\n",
      "Epoch 3/10\n",
      " - 11s - loss: 0.3112 - acc: 0.8683\n",
      "Epoch 4/10\n",
      " - 12s - loss: 0.3054 - acc: 0.8703\n",
      "Epoch 5/10\n",
      " - 11s - loss: 0.3014 - acc: 0.8716\n",
      "Epoch 6/10\n",
      " - 11s - loss: 0.2996 - acc: 0.8730\n",
      "Epoch 7/10\n",
      " - 11s - loss: 0.2974 - acc: 0.8726\n",
      "Epoch 8/10\n",
      " - 11s - loss: 0.2937 - acc: 0.8747\n",
      "Epoch 9/10\n",
      " - 11s - loss: 0.2917 - acc: 0.8747\n",
      "Epoch 10/10\n",
      " - 11s - loss: 0.2893 - acc: 0.8762\n",
      "Accuracy  0.863\n",
      "Precision  0.828\n",
      "Recall  0.916\n",
      "F1 Score  0.87\n"
     ]
    }
   ],
   "source": [
    "model = givemymodel(400)\n",
    "model.fit(xtrain_enc, ytrain_enc, epochs=10, batch_size=100,  verbose=2)\n",
    "ytestpred = [round(x[0]) for x in model.predict(xtest_enc)]\n",
    "giveresults(ytest_enc,ytestpred)"
   ]
  },
  {
   "cell_type": "code",
   "execution_count": 86,
   "metadata": {},
   "outputs": [],
   "source": [
    "xtrain_encedge,ytrain_encedge = giveencdata_edge(postrainset,negtrainset)\n",
    "xtest_encedge,ytest_encedge = giveencdata_edge(postestset,negtestset)"
   ]
  },
  {
   "cell_type": "code",
   "execution_count": 90,
   "metadata": {},
   "outputs": [
    {
     "name": "stdout",
     "output_type": "stream",
     "text": [
      "Epoch 1/10\n",
      " - 12s - loss: 0.4908 - acc: 0.8621\n",
      "Epoch 2/10\n",
      " - 11s - loss: 0.2612 - acc: 0.8944\n",
      "Epoch 3/10\n",
      " - 11s - loss: 0.2319 - acc: 0.9078\n",
      "Epoch 4/10\n",
      " - 11s - loss: 0.2164 - acc: 0.9149\n",
      "Epoch 5/10\n",
      " - 11s - loss: 0.2082 - acc: 0.9187\n",
      "Epoch 6/10\n",
      " - 11s - loss: 0.2019 - acc: 0.9228\n",
      "Epoch 7/10\n",
      " - 11s - loss: 0.1938 - acc: 0.9266\n",
      "Epoch 8/10\n",
      " - 11s - loss: 0.1899 - acc: 0.9277\n",
      "Epoch 9/10\n",
      " - 11s - loss: 0.1873 - acc: 0.9296\n",
      "Epoch 10/10\n",
      " - 11s - loss: 0.1851 - acc: 0.9303\n",
      "Accuracy  0.934\n",
      "Precision  0.935\n",
      "Recall  0.934\n",
      "F1 Score  0.934\n"
     ]
    }
   ],
   "source": [
    "model = givemymodel(406)\n",
    "model.fit(xtrain_encedge, ytrain_encedge, epochs=10, batch_size=100,  verbose=2)\n",
    "ytestpred = [round(x[0]) for x in model.predict(xtest_encedge)]\n",
    "giveresults(ytest_encedge,ytestpred)"
   ]
  },
  {
   "cell_type": "code",
   "execution_count": 91,
   "metadata": {},
   "outputs": [],
   "source": [
    "xtrain_encedgeboth,ytrain_encedgeboth = givedatausingbothfeats_enc(postrainset,negtrainset)\n",
    "xtest_encedgeboth,ytest_encedgeboth = givedatausingbothfeats_enc(postestset,negtestset)"
   ]
  },
  {
   "cell_type": "code",
   "execution_count": 95,
   "metadata": {},
   "outputs": [
    {
     "name": "stdout",
     "output_type": "stream",
     "text": [
      "Epoch 1/10\n",
      " - 15s - loss: 0.7012 - acc: 0.8506\n",
      "Epoch 2/10\n",
      " - 14s - loss: 0.2645 - acc: 0.8931\n",
      "Epoch 3/10\n",
      " - 14s - loss: 0.2391 - acc: 0.9039\n",
      "Epoch 4/10\n",
      " - 14s - loss: 0.2206 - acc: 0.9119\n",
      "Epoch 5/10\n",
      " - 14s - loss: 0.2131 - acc: 0.9155\n",
      "Epoch 6/10\n",
      " - 14s - loss: 0.2044 - acc: 0.9206\n",
      "Epoch 7/10\n",
      " - 14s - loss: 0.1956 - acc: 0.9245\n",
      "Epoch 8/10\n",
      " - 14s - loss: 0.1930 - acc: 0.9257\n",
      "Epoch 9/10\n",
      " - 14s - loss: 0.1896 - acc: 0.9274\n",
      "Epoch 10/10\n",
      " - 14s - loss: 0.1885 - acc: 0.9283\n",
      "Accuracy  0.931\n",
      "Precision  0.918\n",
      "Recall  0.947\n",
      "F1 Score  0.932\n"
     ]
    }
   ],
   "source": [
    "model = givemymodel(442)\n",
    "model.fit(xtrain_encedgeboth, ytrain_encedgeboth, epochs=10, batch_size=100,  verbose=2)\n",
    "ytestpred = [round(x[0]) for x in model.predict(xtest_encedgeboth)]\n",
    "giveresults(ytest_encedgeboth,ytestpred)"
   ]
  },
  {
   "cell_type": "code",
   "execution_count": 96,
   "metadata": {},
   "outputs": [],
   "source": [
    "xtrain_encnode,ytrain_encnode = giveencdata_node(postrainset,negtrainset)\n",
    "xtest_encnode,ytest_encnode = giveencdata_node(postestset,negtestset)"
   ]
  },
  {
   "cell_type": "code",
   "execution_count": 99,
   "metadata": {},
   "outputs": [
    {
     "name": "stdout",
     "output_type": "stream",
     "text": [
      "Epoch 1/10\n",
      " - 17s - loss: 0.6257 - acc: 0.8407\n",
      "Epoch 2/10\n",
      " - 15s - loss: 0.3211 - acc: 0.8636\n",
      "Epoch 3/10\n",
      " - 15s - loss: 0.3113 - acc: 0.8681\n",
      "Epoch 4/10\n",
      " - 15s - loss: 0.3055 - acc: 0.8708\n",
      "Epoch 5/10\n",
      " - 15s - loss: 0.3025 - acc: 0.8713\n",
      "Epoch 6/10\n",
      " - 16s - loss: 0.2990 - acc: 0.8726\n",
      "Epoch 7/10\n",
      " - 15s - loss: 0.2956 - acc: 0.8736\n",
      "Epoch 8/10\n",
      " - 15s - loss: 0.2942 - acc: 0.8745\n",
      "Epoch 9/10\n",
      " - 15s - loss: 0.2909 - acc: 0.8748\n",
      "Epoch 10/10\n",
      " - 15s - loss: 0.2910 - acc: 0.8761\n",
      "Accuracy  0.868\n",
      "Precision  0.847\n",
      "Recall  0.898\n",
      "F1 Score  0.872\n"
     ]
    }
   ],
   "source": [
    "model = givemymodel(436)\n",
    "model.fit(xtrain_encnode, ytrain_encnode, epochs=10, batch_size=100,  verbose=2)\n",
    "ytestpred = [round(x[0]) for x in model.predict(xtest_encnode)]\n",
    "giveresults(ytest_encnode,ytestpred)"
   ]
  },
  {
   "cell_type": "code",
   "execution_count": 43,
   "metadata": {},
   "outputs": [],
   "source": [
    "def give_log_reg_results(Xtrain,ytrain,Xtest,Ytest):\n",
    "    model = LogisticRegression(solver = 'lbfgs')\n",
    "    model.fit(Xtrain,ytrain.reshape(-1,))\n",
    "    ytestpred = model.predict(Xtest)\n",
    "    giveresults(Ytest,ytestpred)"
   ]
  },
  {
   "cell_type": "code",
   "execution_count": 100,
   "metadata": {},
   "outputs": [
    {
     "name": "stderr",
     "output_type": "stream",
     "text": [
      "/Users/shivankgoel/Documents/Anaconda/anaconda3/envs/nlpenv/lib/python3.7/site-packages/sklearn/linear_model/logistic.py:758: ConvergenceWarning: lbfgs failed to converge. Increase the number of iterations.\n",
      "  \"of iterations.\", ConvergenceWarning)\n"
     ]
    },
    {
     "name": "stdout",
     "output_type": "stream",
     "text": [
      "Accuracy  0.807\n",
      "Precision  0.814\n",
      "Recall  0.795\n",
      "F1 Score  0.805\n"
     ]
    }
   ],
   "source": [
    "give_log_reg_results(xtrain_enc,ytrain_enc,xtest_enc,ytest_enc)"
   ]
  },
  {
   "cell_type": "code",
   "execution_count": 101,
   "metadata": {},
   "outputs": [
    {
     "name": "stderr",
     "output_type": "stream",
     "text": [
      "/Users/shivankgoel/Documents/Anaconda/anaconda3/envs/nlpenv/lib/python3.7/site-packages/sklearn/linear_model/logistic.py:758: ConvergenceWarning: lbfgs failed to converge. Increase the number of iterations.\n",
      "  \"of iterations.\", ConvergenceWarning)\n"
     ]
    },
    {
     "name": "stdout",
     "output_type": "stream",
     "text": [
      "Accuracy  0.807\n",
      "Precision  0.804\n",
      "Recall  0.811\n",
      "F1 Score  0.808\n"
     ]
    }
   ],
   "source": [
    "give_log_reg_results(xtrain_encnode,ytrain_encnode,xtest_encnode,ytest_encnode)"
   ]
  },
  {
   "cell_type": "code",
   "execution_count": 102,
   "metadata": {},
   "outputs": [
    {
     "name": "stderr",
     "output_type": "stream",
     "text": [
      "/Users/shivankgoel/Documents/Anaconda/anaconda3/envs/nlpenv/lib/python3.7/site-packages/sklearn/linear_model/logistic.py:758: ConvergenceWarning: lbfgs failed to converge. Increase the number of iterations.\n",
      "  \"of iterations.\", ConvergenceWarning)\n"
     ]
    },
    {
     "name": "stdout",
     "output_type": "stream",
     "text": [
      "Accuracy  0.834\n",
      "Precision  0.858\n",
      "Recall  0.802\n",
      "F1 Score  0.829\n"
     ]
    }
   ],
   "source": [
    "give_log_reg_results(xtrain_encedge,ytrain_encedge,xtest_encedge,ytest_encedge)"
   ]
  },
  {
   "cell_type": "code",
   "execution_count": 103,
   "metadata": {},
   "outputs": [
    {
     "name": "stderr",
     "output_type": "stream",
     "text": [
      "/Users/shivankgoel/Documents/Anaconda/anaconda3/envs/nlpenv/lib/python3.7/site-packages/sklearn/linear_model/logistic.py:758: ConvergenceWarning: lbfgs failed to converge. Increase the number of iterations.\n",
      "  \"of iterations.\", ConvergenceWarning)\n"
     ]
    },
    {
     "name": "stdout",
     "output_type": "stream",
     "text": [
      "Accuracy  0.821\n",
      "Precision  0.826\n",
      "Recall  0.814\n",
      "F1 Score  0.82\n"
     ]
    }
   ],
   "source": [
    "give_log_reg_results(xtrain_encedgeboth,ytrain_encedgeboth,xtest_encedgeboth,ytest_encedgeboth)"
   ]
  },
  {
   "cell_type": "code",
   "execution_count": 106,
   "metadata": {},
   "outputs": [
    {
     "data": {
      "image/png": "[encoded data removed]",
      "text/plain": [
       "<Figure size 432x288 with 1 Axes>"
      ]
     },
     "metadata": {
      "needs_background": "light"
     },
     "output_type": "display_data"
    }
   ],
   "source": [
    "import matplotlib.pyplot as plt\n",
    "#lloss = [226.7440,85.4669,36.4343,13.0054,15.5587,11.9392,6.4883,3.4751,4.5589,3.2940,2.2241,2.5358,2.9547,1.6141,1.7684,2.2260,1.9281,1.5254,1.8769,1.7149,1.1389,1.4623,2.2930,1.2788,1.2584,2.1135,1.9711,0.8719,2.3196,1.3687,1.3753,1.3103,0.8149,0.7651,1.7740,0.8306,0.9019,0.5104,0.5458,0.9973]\n",
    "lloss = [12.1194,2.1481,1.8680,0.6402,0.8914,0.6949,0.4631,0.4281,0.8112,0.6108,0.8303,0.6601,0.5160,0.4429,0.5097,0.5132,0.4438,0.7127,0.3345,0.6316,0.4373,0.4390,0.3215,0.4320,0.5834,0.4152,0.4387,0.4835,0.5142,0.3479,0.5260,0.4975,0.4927,0.3684,0.3698,0.3411,0.3636,0.4347,0.3988,0.3137]\n",
    "plt.plot([x*5 for x in range(len(lloss))], lloss,'r-')\n",
    "plt.xlabel('Batch Iteration')\n",
    "plt.ylabel('Training Loss')\n",
    "plt.show()"
   ]
  },
  {
   "cell_type": "code",
   "execution_count": null,
   "metadata": {},
   "outputs": [],
   "source": []
  }
 ],
 "metadata": {
  "kernelspec": {
   "display_name": "Python 3",
   "language": "python",
   "name": "python3"
  },
  "language_info": {
   "codemirror_mode": {
    "name": "ipython",
    "version": 3
   },
   "file_extension": ".py",
   "mimetype": "text/x-python",
   "name": "python",
   "nbconvert_exporter": "python",
   "pygments_lexer": "ipython3",
   "version": "3.7.2"
  }
 },
 "nbformat": 4,
 "nbformat_minor": 2
}
