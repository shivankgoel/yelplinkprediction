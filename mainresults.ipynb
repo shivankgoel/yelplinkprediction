{
 "cells": [
  {
   "cell_type": "code",
   "execution_count": 1,
   "metadata": {},
   "outputs": [
    {
     "name": "stderr",
     "output_type": "stream",
     "text": [
      "Using TensorFlow backend.\n"
     ]
    }
   ],
   "source": [
    "from dependencies import *\n",
    "\n",
    "userdata = pd.read_csv('data/yelp/user.csv', low_memory=False)\n",
    "uid2num = {k:v for k,v in zip(userdata['user_id'].values,range(len(userdata['user_id'].values)))}\n",
    "num2uid = {k:v for v,k in uid2num.items()}\n",
    "\n",
    "udata = pickle.load(open( \"udata.p\", \"rb\" ))\n",
    "adj = {uid2num[k]:[uid2num[x] for x in v.split(', ') if x in uid2num] for k,v in zip(udata['user_id'].values,udata['friends'].values)}\n"
   ]
  },
  {
   "cell_type": "code",
   "execution_count": 2,
   "metadata": {},
   "outputs": [],
   "source": [
    "components = pickle.load(open( \"graph_components_apr29.p\", \"rb\" ))\n",
    "#Get the training and the test connected component\n",
    "gc = components[0]\n",
    "\n",
    "def giveagraph(gc,start=0,end=10000):\n",
    "\ttemp = nx.Graph()\n",
    "\ttemp.add_nodes_from(list(gc.nodes)[start:end])\n",
    "\ttemp.add_edges_from([(i,j) for i in temp.nodes for j in gc[i] if j in temp.nodes ])\n",
    "\treturn max(nx.connected_component_subgraphs(temp), key=len)\n",
    "\n",
    "#traing = giveagraph(gc)\n",
    "#testg = giveagraph(gc,10000,20000)\n",
    "\n"
   ]
  },
  {
   "cell_type": "code",
   "execution_count": 11,
   "metadata": {},
   "outputs": [],
   "source": [
    "def giveagraph_nodes(gc,nodes):\n",
    "\ttemp = nx.Graph()\n",
    "\ttemp.add_nodes_from(nodes)\n",
    "\ttemp.add_edges_from([(i,j) for i in nodes for j in gc[i] if j in nodes ])\n",
    "\treturn max(nx.connected_component_subgraphs(temp), key=len)\n",
    "\n",
    "import random\n",
    "nodes  = list(gc.nodes)[0:20000]\n",
    "random.Random(4).shuffle(nodes)\n",
    "traing = giveagraph_nodes(gc,nodes[:10000])\n",
    "testg = giveagraph_nodes(gc,nodes[10000:])\n"
   ]
  },
  {
   "cell_type": "code",
   "execution_count": 16,
   "metadata": {},
   "outputs": [
    {
     "data": {
      "text/plain": [
       "7151"
      ]
     },
     "execution_count": 16,
     "metadata": {},
     "output_type": "execute_result"
    }
   ],
   "source": [
    "len(testg.nodes)"
   ]
  },
  {
   "cell_type": "code",
   "execution_count": 17,
   "metadata": {},
   "outputs": [],
   "source": [
    "def sample_edges(g,possize=100,negsize=100,full = False):\n",
    "    negexamples = list(nx.non_edges(g))\n",
    "    totaledges = len(g.edges())\n",
    "    if full:\n",
    "        posset = np.array(g.edges())\n",
    "        negsize = totaledges\n",
    "    else:\n",
    "        np.random.seed(4)\n",
    "        posset = np.random.choice(np.array(g.edges()), possize)\n",
    "    np.random.seed(4)\n",
    "    negindices = np.random.choice(range(len(negexamples)), negsize)\n",
    "    negset = np.array(negexamples)[negindices]\n",
    "    return posset,negset\n",
    "\n",
    "postrainset, negtrainset = sample_edges(traing, full = True)\n",
    "postestset, negtestset = sample_edges(testg, full = True)"
   ]
  },
  {
   "cell_type": "code",
   "execution_count": 20,
   "metadata": {},
   "outputs": [
    {
     "data": {
      "text/plain": [
       "71839"
      ]
     },
     "execution_count": 20,
     "metadata": {},
     "output_type": "execute_result"
    }
   ],
   "source": [
    "len(postestset)"
   ]
  },
  {
   "cell_type": "code",
   "execution_count": 21,
   "metadata": {},
   "outputs": [],
   "source": [
    "ids  = udata.to_numpy()[:,[0]]\n",
    "features = udata.to_numpy()[:,[2,4,5,6,7,9,10,11,12,13,14,15,16,17,18,19,20,21]]\n",
    "uid2feat = dict(zip(ids.reshape(-1),features))"
   ]
  },
  {
   "cell_type": "code",
   "execution_count": 22,
   "metadata": {},
   "outputs": [],
   "source": [
    "uid2fset = {a:set(b.split(', ')) for a,b in zip(udata['user_id'].values,udata['friends'].values)}\n",
    "uid2bidset = {a:b for a,b in zip(udata['user_id'].values,udata['bidset'].values)}\n",
    "uid2cityset = {a:b for a,b in zip(udata['user_id'].values,udata['cityset'].values)}\n",
    "\n",
    "def givenumcommon(uid2set,uid1,uid2):\n",
    "    a = uid2set[uid1]\n",
    "    b = uid2set[uid2]\n",
    "    return len(a.intersection(b))\n",
    "\n",
    "def givenumunion(uid2set,uid1,uid2):\n",
    "    a = uid2set[uid1]\n",
    "    b = uid2set[uid2]\n",
    "    return len(a.union(b))"
   ]
  },
  {
   "cell_type": "code",
   "execution_count": 23,
   "metadata": {},
   "outputs": [],
   "source": [
    "def givejaccard(uidset,uid1,uid2):\n",
    "    a = givenumcommon(uidset,uid1,uid2)\n",
    "    b = givenumunion(uidset,uid1,uid2)\n",
    "    return np.round((a*1.0)/(b*1.0),2)\n",
    "\n",
    "def giveprefattach(uid2set,uid1,uid2):\n",
    "    a = uid2set[uid1]\n",
    "    b = uid2set[uid2]\n",
    "    return (len(a) * len(b))"
   ]
  },
  {
   "cell_type": "code",
   "execution_count": 24,
   "metadata": {},
   "outputs": [],
   "source": [
    "def giveedgefeats(pairlist,cfriends=True,cbids=True,ccities= True):\n",
    "    X = []\n",
    "    for p in pairlist:\n",
    "        id0 = num2uid[p[0]]\n",
    "        id1 = num2uid[p[1]]\n",
    "        feats = []\n",
    "        if cfriends:\n",
    "            feats.append(givenumcommon(uid2fset,id0,id1))\n",
    "        if cbids:\n",
    "            feats.append(givenumcommon(uid2bidset,id0,id1))\n",
    "        if ccities:\n",
    "            feats.append(givenumcommon(uid2cityset,id0,id1))\n",
    "        X.append(feats)\n",
    "    return np.array(X)\n",
    "\n",
    "def giveedgefeats_jaccard(pairlist):\n",
    "    X = []\n",
    "    for p in pairlist:\n",
    "        id0 = num2uid[p[0]]\n",
    "        id1 = num2uid[p[1]]\n",
    "        feats = []\n",
    "        feats.append(givejaccard(uid2fset,id0,id1))\n",
    "        feats.append(givejaccard(uid2bidset,id0,id1))\n",
    "        feats.append(givejaccard(uid2cityset,id0,id1))\n",
    "        X.append(feats)\n",
    "    return np.array(X)\n",
    "\n",
    "def giveedgefeats_prefattach(pairlist):\n",
    "    X = []\n",
    "    for p in pairlist:\n",
    "        id0 = num2uid[p[0]]\n",
    "        id1 = num2uid[p[1]]\n",
    "        feats = []\n",
    "        feats.append(giveprefattach(uid2fset,id0,id1))\n",
    "        feats.append(giveprefattach(uid2bidset,id0,id1))\n",
    "        feats.append(giveprefattach(uid2cityset,id0,id1))\n",
    "        X.append(feats)\n",
    "    return np.array(X)\n",
    "\n",
    "def giveedgefeats_all(pairlist):\n",
    "    X = []\n",
    "    for p in pairlist:\n",
    "        id0 = num2uid[p[0]]\n",
    "        id1 = num2uid[p[1]]\n",
    "        feats = []\n",
    "        feats.append(givenumcommon(uid2fset,id0,id1))\n",
    "        feats.append(givenumcommon(uid2bidset,id0,id1))\n",
    "        feats.append(givenumcommon(uid2cityset,id0,id1))\n",
    "        feats.append(givejaccard(uid2fset,id0,id1))\n",
    "        feats.append(givejaccard(uid2bidset,id0,id1))\n",
    "        feats.append(givejaccard(uid2cityset,id0,id1))\n",
    "        X.append(feats)\n",
    "    return np.array(X)\n",
    "\n",
    "def giveedgedata(posset,negset,cfriends=True,cbids=True,ccities= True):\n",
    "    X1  = giveedgefeats(posset,cfriends,cbids,ccities)\n",
    "    X2  = giveedgefeats(negset,cfriends,cbids,ccities)\n",
    "    X = np.concatenate((X1,X2),0)\n",
    "    y = np.concatenate((np.ones((X1.shape[0],1)),np.zeros((X2.shape[0],1))),0)\n",
    "    X,y = shuffle(X,y)\n",
    "    return X,y\n",
    "\n",
    "def giveedgedata_jaccard(posset,negset):\n",
    "    X1  = giveedgefeats_jaccard(posset)\n",
    "    X2  = giveedgefeats_jaccard(negset)\n",
    "    X = np.concatenate((X1,X2),0)\n",
    "    y = np.concatenate((np.ones((X1.shape[0],1)),np.zeros((X2.shape[0],1))),0)\n",
    "    X,y = shuffle(X,y)\n",
    "    return X,y\n",
    "\n",
    "def giveedgedata_prefattach(posset,negset):\n",
    "    X1  = giveedgefeats_prefattach(posset)\n",
    "    X2  = giveedgefeats_prefattach(negset)\n",
    "    X = np.concatenate((X1,X2),0)\n",
    "    y = np.concatenate((np.ones((X1.shape[0],1)),np.zeros((X2.shape[0],1))),0)\n",
    "    X,y = shuffle(X,y)\n",
    "    return X,y\n",
    "\n",
    "\n",
    "def giveedgedata_all(posset,negset):\n",
    "    X1  = giveedgefeats_all(posset)\n",
    "    X2  = giveedgefeats_all(negset)\n",
    "    X = np.concatenate((X1,X2),0)\n",
    "    y = np.concatenate((np.ones((X1.shape[0],1)),np.zeros((X2.shape[0],1))),0)\n",
    "    X,y = shuffle(X,y)\n",
    "    return X,y\n",
    "\n",
    "def givenodefeats(pairlist):\n",
    "    X = []\n",
    "    for p in pairlist:\n",
    "        id0 = num2uid[p[0]]\n",
    "        id1 = num2uid[p[1]]\n",
    "        X.append(np.concatenate([uid2feat[id0], uid2feat[id1]]))\n",
    "    return np.array(X)\n",
    "\n",
    "def givenodedata(posset,negset):\n",
    "    X1  = givenodefeats(posset)\n",
    "    X2  = givenodefeats(negset)\n",
    "    X = np.concatenate((X1,X2),0)\n",
    "    y = np.concatenate((np.ones((X1.shape[0],1)),np.zeros((X2.shape[0],1))),0)\n",
    "    X,y = shuffle(X,y)\n",
    "    return X,y\n",
    "\n",
    "\n",
    "def givedatausingbothfeats(posset,negset):\n",
    "    X1  = np.concatenate((giveedgefeats(posset),givenodefeats(posset)),1)\n",
    "    X2  = np.concatenate((giveedgefeats(negset),givenodefeats(negset)),1)\n",
    "    X = np.concatenate((X1,X2),0)\n",
    "    y = np.concatenate((np.ones((X1.shape[0],1)),np.zeros((X2.shape[0],1))),0)\n",
    "    X,y = shuffle(X,y)\n",
    "    return X,y\n",
    "\n",
    "\n",
    "def givedatausingbothfeats_jaccard(posset,negset):\n",
    "    X1  = np.concatenate((giveedgefeats_jaccard(posset),givenodefeats(posset)),1)\n",
    "    X2  = np.concatenate((giveedgefeats_jaccard(negset),givenodefeats(negset)),1)\n",
    "    X = np.concatenate((X1,X2),0)\n",
    "    y = np.concatenate((np.ones((X1.shape[0],1)),np.zeros((X2.shape[0],1))),0)\n",
    "    X,y = shuffle(X,y)\n",
    "    return X,y\n"
   ]
  },
  {
   "cell_type": "code",
   "execution_count": 40,
   "metadata": {},
   "outputs": [],
   "source": [
    "Xtrain_edge,ytrain_edge = giveedgedata(postrainset,negtrainset,cfriends=True,cbids=True,ccities= True)\n",
    "Xtest_edge,Ytest_edge = giveedgedata(postestset,negtestset,cfriends=True,cbids=True,ccities= True)"
   ]
  },
  {
   "cell_type": "code",
   "execution_count": 83,
   "metadata": {},
   "outputs": [],
   "source": [
    "Xtrain_edge_fc,ytrain_edge_fc = giveedgedata(postrainset,negtrainset,cfriends=True,cbids=False,ccities= True)\n",
    "Xtest_edge_fc,Ytest_edge_fc = giveedgedata(postestset,negtestset,cfriends=True,cbids=False,ccities= True)\n",
    "Xtrain_edge_fb,ytrain_edge_fb = giveedgedata(postrainset,negtrainset,cfriends=True,cbids=True,ccities= False)\n",
    "Xtest_edge_fb,Ytest_edge_fb = giveedgedata(postestset,negtestset,cfriends=True,cbids=True,ccities= False)\n",
    "Xtrain_edge_bc,ytrain_edge_bc = giveedgedata(postrainset,negtrainset,cfriends=False,cbids=True,ccities= True)\n",
    "Xtest_edge_bc,Ytest_edge_bc = giveedgedata(postestset,negtestset,cfriends=False,cbids=True,ccities= True)"
   ]
  },
  {
   "cell_type": "code",
   "execution_count": 84,
   "metadata": {},
   "outputs": [],
   "source": [
    "Xtrain_edge_f,ytrain_edge_f = giveedgedata(postrainset,negtrainset,cfriends=True,cbids=False,ccities= False)\n",
    "Xtest_edge_f,Ytest_edge_f = giveedgedata(postestset,negtestset,cfriends=True,cbids=False,ccities= False)\n",
    "Xtrain_edge_b,ytrain_edge_b = giveedgedata(postrainset,negtrainset,cfriends=False,cbids=True,ccities= False)\n",
    "Xtest_edge_b,Ytest_edge_b = giveedgedata(postestset,negtestset,cfriends=False,cbids=True,ccities= False)\n",
    "Xtrain_edge_c,ytrain_edge_c = giveedgedata(postrainset,negtrainset,cfriends=False,cbids=False,ccities= True)\n",
    "Xtest_edge_c,Ytest_edge_c = giveedgedata(postestset,negtestset,cfriends=False,cbids=False,ccities= True)"
   ]
  },
  {
   "cell_type": "code",
   "execution_count": 82,
   "metadata": {},
   "outputs": [],
   "source": [
    "Xtrain_edgeall,ytrain_edgeall = giveedgedata_all(postrainset,negtrainset)\n",
    "Xtest_edgeall,Ytest_edgeall = giveedgedata_all(postestset,negtestset)"
   ]
  },
  {
   "cell_type": "code",
   "execution_count": 42,
   "metadata": {},
   "outputs": [],
   "source": [
    "Xtrain_jaccard,ytrain_jaccard = giveedgedata_jaccard(postrainset,negtrainset)\n",
    "Xtest_jaccard,Ytest_jaccard = giveedgedata_jaccard(postestset,negtestset)"
   ]
  },
  {
   "cell_type": "code",
   "execution_count": 56,
   "metadata": {},
   "outputs": [],
   "source": [
    "Xtrain_both,ytrain_both = givedatausingbothfeats(postrainset,negtrainset)\n",
    "Xtest_both,Ytest_both = givedatausingbothfeats(postestset,negtestset)"
   ]
  },
  {
   "cell_type": "code",
   "execution_count": 62,
   "metadata": {},
   "outputs": [],
   "source": [
    "Xtrain_bothjaccard,ytrain_bothjaccard = givedatausingbothfeats_jaccard(postrainset,negtrainset)\n",
    "Xtest_bothjaccard,Ytest_bothjaccard = givedatausingbothfeats_jaccard(postestset,negtestset)"
   ]
  },
  {
   "cell_type": "code",
   "execution_count": 67,
   "metadata": {},
   "outputs": [],
   "source": [
    "Xtrain_node,ytrain_node = givenodedata(postrainset,negtrainset)\n",
    "Xtest_node,Ytest_node = givenodedata(postestset,negtestset)"
   ]
  },
  {
   "cell_type": "code",
   "execution_count": 92,
   "metadata": {},
   "outputs": [],
   "source": [
    "Xtrain_pref,ytrain_pref = giveedgedata_prefattach(postrainset,negtrainset)\n",
    "Xtest_pref,Ytest_pref = giveedgedata_prefattach(postestset,negtestset)"
   ]
  },
  {
   "cell_type": "code",
   "execution_count": 45,
   "metadata": {},
   "outputs": [],
   "source": [
    "def giveresults(Ytest,ytestpred):\n",
    "    print(\"Accuracy \",np.round(accuracy_score(Ytest,ytestpred),3))\n",
    "    print(\"Precision \",np.round(precision_score(Ytest,ytestpred),3))\n",
    "    print(\"Recall \",np.round(recall_score(Ytest,ytestpred),3))\n",
    "    print(\"F1 Score \",np.round(f1_score(Ytest,ytestpred),3))"
   ]
  },
  {
   "cell_type": "code",
   "execution_count": 75,
   "metadata": {},
   "outputs": [],
   "source": [
    "def give_log_reg_results(Xtrain,ytrain,Xtest,Ytest):\n",
    "    model = LogisticRegression(solver = 'lbfgs')\n",
    "    model.fit(Xtrain,ytrain.reshape(-1,))\n",
    "    ytestpred = model.predict(Xtest)\n",
    "    giveresults(Ytest,ytestpred)"
   ]
  },
  {
   "cell_type": "code",
   "execution_count": 93,
   "metadata": {},
   "outputs": [
    {
     "name": "stdout",
     "output_type": "stream",
     "text": [
      "Accuracy  0.5\n",
      "Precision  0.5\n",
      "Recall  1.0\n",
      "F1 Score  0.667\n"
     ]
    }
   ],
   "source": [
    "give_log_reg_results(Xtrain_pref,ytrain_pref,Xtest_pref,Ytest_pref)"
   ]
  },
  {
   "cell_type": "code",
   "execution_count": 86,
   "metadata": {},
   "outputs": [
    {
     "name": "stdout",
     "output_type": "stream",
     "text": [
      "Accuracy  0.911\n",
      "Precision  0.955\n",
      "Recall  0.863\n",
      "F1 Score  0.906\n"
     ]
    }
   ],
   "source": [
    "give_log_reg_results(Xtrain_edge_fc,ytrain_edge_fc,Xtest_edge_fc,Ytest_edge_fc)"
   ]
  },
  {
   "cell_type": "code",
   "execution_count": 87,
   "metadata": {},
   "outputs": [
    {
     "name": "stdout",
     "output_type": "stream",
     "text": [
      "Accuracy  0.909\n",
      "Precision  0.962\n",
      "Recall  0.851\n",
      "F1 Score  0.903\n"
     ]
    }
   ],
   "source": [
    "give_log_reg_results(Xtrain_edge_fb,ytrain_edge_fb,Xtest_edge_fb,Ytest_edge_fb)"
   ]
  },
  {
   "cell_type": "code",
   "execution_count": 88,
   "metadata": {},
   "outputs": [
    {
     "name": "stdout",
     "output_type": "stream",
     "text": [
      "Accuracy  0.742\n",
      "Precision  0.793\n",
      "Recall  0.655\n",
      "F1 Score  0.718\n"
     ]
    }
   ],
   "source": [
    "give_log_reg_results(Xtrain_edge_bc,ytrain_edge_bc,Xtest_edge_bc,Ytest_edge_bc)"
   ]
  },
  {
   "cell_type": "code",
   "execution_count": 89,
   "metadata": {},
   "outputs": [
    {
     "name": "stdout",
     "output_type": "stream",
     "text": [
      "Accuracy  0.904\n",
      "Precision  0.964\n",
      "Recall  0.839\n",
      "F1 Score  0.897\n"
     ]
    }
   ],
   "source": [
    "give_log_reg_results(Xtrain_edge_f,ytrain_edge_f,Xtest_edge_f,Ytest_edge_f)"
   ]
  },
  {
   "cell_type": "code",
   "execution_count": 90,
   "metadata": {},
   "outputs": [
    {
     "name": "stdout",
     "output_type": "stream",
     "text": [
      "Accuracy  0.728\n",
      "Precision  0.872\n",
      "Recall  0.535\n",
      "F1 Score  0.663\n"
     ]
    }
   ],
   "source": [
    "give_log_reg_results(Xtrain_edge_b,ytrain_edge_b,Xtest_edge_b,Ytest_edge_b)"
   ]
  },
  {
   "cell_type": "code",
   "execution_count": 91,
   "metadata": {},
   "outputs": [
    {
     "name": "stdout",
     "output_type": "stream",
     "text": [
      "Accuracy  0.685\n",
      "Precision  0.796\n",
      "Recall  0.497\n",
      "F1 Score  0.612\n"
     ]
    }
   ],
   "source": [
    "give_log_reg_results(Xtrain_edge_c,ytrain_edge_c,Xtest_edge_c,Ytest_edge_c)"
   ]
  },
  {
   "cell_type": "code",
   "execution_count": 79,
   "metadata": {},
   "outputs": [
    {
     "name": "stdout",
     "output_type": "stream",
     "text": [
      "Accuracy  0.912\n",
      "Precision  0.956\n",
      "Recall  0.864\n",
      "F1 Score  0.908\n"
     ]
    }
   ],
   "source": [
    "give_log_reg_results(Xtrain_edge,ytrain_edge,Xtest_edge,Ytest_edge)"
   ]
  },
  {
   "cell_type": "code",
   "execution_count": 85,
   "metadata": {},
   "outputs": [
    {
     "name": "stdout",
     "output_type": "stream",
     "text": [
      "Accuracy  0.913\n",
      "Precision  0.957\n",
      "Recall  0.866\n",
      "F1 Score  0.909\n"
     ]
    }
   ],
   "source": [
    "give_log_reg_results(Xtrain_edgeall,ytrain_edgeall,Xtest_edgeall,Ytest_edgeall)"
   ]
  },
  {
   "cell_type": "code",
   "execution_count": 80,
   "metadata": {},
   "outputs": [
    {
     "name": "stdout",
     "output_type": "stream",
     "text": [
      "Accuracy  0.871\n",
      "Precision  0.95\n",
      "Recall  0.783\n",
      "F1 Score  0.858\n"
     ]
    }
   ],
   "source": [
    "give_log_reg_results(Xtrain_jaccard,ytrain_jaccard,Xtest_jaccard,Ytest_jaccard)"
   ]
  },
  {
   "cell_type": "code",
   "execution_count": 76,
   "metadata": {},
   "outputs": [
    {
     "name": "stdout",
     "output_type": "stream",
     "text": [
      "Accuracy  0.735\n",
      "Precision  0.699\n",
      "Recall  0.827\n",
      "F1 Score  0.757\n"
     ]
    },
    {
     "name": "stderr",
     "output_type": "stream",
     "text": [
      "/Users/shivankgoel/Documents/Anaconda/anaconda3/envs/nlpenv/lib/python3.7/site-packages/sklearn/linear_model/logistic.py:758: ConvergenceWarning: lbfgs failed to converge. Increase the number of iterations.\n",
      "  \"of iterations.\", ConvergenceWarning)\n"
     ]
    }
   ],
   "source": [
    "give_log_reg_results(Xtrain_node,ytrain_node,Xtest_node,Ytest_node)"
   ]
  },
  {
   "cell_type": "code",
   "execution_count": 77,
   "metadata": {},
   "outputs": [
    {
     "name": "stdout",
     "output_type": "stream",
     "text": [
      "Accuracy  0.875\n",
      "Precision  0.866\n",
      "Recall  0.888\n",
      "F1 Score  0.877\n"
     ]
    },
    {
     "name": "stderr",
     "output_type": "stream",
     "text": [
      "/Users/shivankgoel/Documents/Anaconda/anaconda3/envs/nlpenv/lib/python3.7/site-packages/sklearn/linear_model/logistic.py:758: ConvergenceWarning: lbfgs failed to converge. Increase the number of iterations.\n",
      "  \"of iterations.\", ConvergenceWarning)\n"
     ]
    }
   ],
   "source": [
    "give_log_reg_results(Xtrain_both,ytrain_both,Xtest_both,Ytest_both)"
   ]
  },
  {
   "cell_type": "code",
   "execution_count": 78,
   "metadata": {},
   "outputs": [
    {
     "name": "stdout",
     "output_type": "stream",
     "text": [
      "Accuracy  0.736\n",
      "Precision  0.698\n",
      "Recall  0.831\n",
      "F1 Score  0.759\n"
     ]
    },
    {
     "name": "stderr",
     "output_type": "stream",
     "text": [
      "/Users/shivankgoel/Documents/Anaconda/anaconda3/envs/nlpenv/lib/python3.7/site-packages/sklearn/linear_model/logistic.py:758: ConvergenceWarning: lbfgs failed to converge. Increase the number of iterations.\n",
      "  \"of iterations.\", ConvergenceWarning)\n"
     ]
    }
   ],
   "source": [
    "give_log_reg_results(Xtrain_bothjaccard,ytrain_bothjaccard,Xtest_bothjaccard,Ytest_bothjaccard)"
   ]
  },
  {
   "cell_type": "code",
   "execution_count": 39,
   "metadata": {},
   "outputs": [],
   "source": [
    "import os\n",
    "os.environ['KMP_DUPLICATE_LIB_OK']='True'"
   ]
  },
  {
   "cell_type": "code",
   "execution_count": 41,
   "metadata": {},
   "outputs": [],
   "source": [
    "from keras.models import Sequential\n",
    "from keras.layers import Dense\n",
    "\n",
    "from numpy.random import seed\n",
    "seed(3)\n",
    "from tensorflow import set_random_seed\n",
    "set_random_seed(3)"
   ]
  },
  {
   "cell_type": "code",
   "execution_count": 94,
   "metadata": {},
   "outputs": [],
   "source": [
    "def giveedgemodel():\n",
    "    model = Sequential()\n",
    "    model.add(Dense(3, input_dim=3, kernel_initializer='uniform', activation='relu'))\n",
    "    model.add(Dense(2, kernel_initializer='uniform', activation='relu'))\n",
    "    model.add(Dense(1, kernel_initializer='uniform', activation='sigmoid'))\n",
    "    model.compile(loss='binary_crossentropy', optimizer='adam', metrics=['accuracy'])\n",
    "    return model"
   ]
  },
  {
   "cell_type": "code",
   "execution_count": 97,
   "metadata": {},
   "outputs": [],
   "source": [
    "def giveedgemodel_all():\n",
    "    model = Sequential()\n",
    "    model.add(Dense(4, input_dim=6, kernel_initializer='uniform', activation='relu'))\n",
    "    model.add(Dense(2, kernel_initializer='uniform', activation='relu'))\n",
    "    model.add(Dense(1, kernel_initializer='uniform', activation='sigmoid'))\n",
    "    model.compile(loss='binary_crossentropy', optimizer='adam', metrics=['accuracy'])\n",
    "    return model"
   ]
  },
  {
   "cell_type": "code",
   "execution_count": 95,
   "metadata": {},
   "outputs": [
    {
     "name": "stdout",
     "output_type": "stream",
     "text": [
      "Epoch 1/10\n",
      " - 8s - loss: 0.3582 - acc: 0.9144\n",
      "Epoch 2/10\n",
      " - 5s - loss: 0.2404 - acc: 0.9301\n",
      "Epoch 3/10\n",
      " - 5s - loss: 0.2076 - acc: 0.9312\n",
      "Epoch 4/10\n",
      " - 5s - loss: 0.1956 - acc: 0.9323\n",
      "Epoch 5/10\n",
      " - 5s - loss: 0.1913 - acc: 0.9321\n",
      "Epoch 6/10\n",
      " - 5s - loss: 0.1890 - acc: 0.9318\n",
      "Epoch 7/10\n",
      " - 5s - loss: 0.1875 - acc: 0.9319\n",
      "Epoch 8/10\n",
      " - 5s - loss: 0.1865 - acc: 0.9322\n",
      "Epoch 9/10\n",
      " - 5s - loss: 0.1862 - acc: 0.9320\n",
      "Epoch 10/10\n",
      " - 5s - loss: 0.1859 - acc: 0.9320\n",
      "Accuracy  0.932\n",
      "Precision  0.92\n",
      "Recall  0.946\n",
      "F1 Score  0.933\n"
     ]
    }
   ],
   "source": [
    "model = giveedgemodel()\n",
    "model.fit(Xtrain_edge, ytrain_edge, epochs=10, batch_size=100,  verbose=2)\n",
    "ytestpred = [round(x[0]) for x in model.predict(Xtest_edge)]\n",
    "giveresults(Ytest_edge,ytestpred)"
   ]
  },
  {
   "cell_type": "code",
   "execution_count": 98,
   "metadata": {},
   "outputs": [
    {
     "name": "stdout",
     "output_type": "stream",
     "text": [
      "Epoch 1/10\n",
      " - 9s - loss: 0.3633 - acc: 0.9211\n",
      "Epoch 2/10\n",
      " - 6s - loss: 0.2416 - acc: 0.9289\n",
      "Epoch 3/10\n",
      " - 6s - loss: 0.2102 - acc: 0.9297\n",
      "Epoch 4/10\n",
      " - 6s - loss: 0.1978 - acc: 0.9301\n",
      "Epoch 5/10\n",
      " - 5s - loss: 0.1928 - acc: 0.9312\n",
      "Epoch 6/10\n",
      " - 5s - loss: 0.1901 - acc: 0.9323\n",
      "Epoch 7/10\n",
      " - 6s - loss: 0.1883 - acc: 0.9322\n",
      "Epoch 8/10\n",
      " - 6s - loss: 0.1870 - acc: 0.9320\n",
      "Epoch 9/10\n",
      " - 6s - loss: 0.1861 - acc: 0.9321\n",
      "Epoch 10/10\n",
      " - 6s - loss: 0.1854 - acc: 0.9321\n",
      "Accuracy  0.932\n",
      "Precision  0.919\n",
      "Recall  0.947\n",
      "F1 Score  0.933\n"
     ]
    }
   ],
   "source": [
    "model = giveedgemodel_all()\n",
    "model.fit(Xtrain_edgeall, ytrain_edgeall, epochs=10, batch_size=100,  verbose=2)\n",
    "ytestpred = [round(x[0]) for x in model.predict(Xtest_edgeall)]\n",
    "giveresults(Ytest_edgeall,ytestpred)"
   ]
  },
  {
   "cell_type": "code",
   "execution_count": 54,
   "metadata": {},
   "outputs": [
    {
     "name": "stdout",
     "output_type": "stream",
     "text": [
      "Epoch 1/10\n",
      " - 3s - loss: 0.6373 - acc: 0.6909\n",
      "Epoch 2/10\n",
      " - 2s - loss: 0.4145 - acc: 0.8442\n",
      "Epoch 3/10\n",
      " - 2s - loss: 0.3193 - acc: 0.8895\n",
      "Epoch 4/10\n",
      " - 2s - loss: 0.2967 - acc: 0.9072\n",
      "Epoch 5/10\n",
      " - 2s - loss: 0.2912 - acc: 0.9078\n",
      "Epoch 6/10\n",
      " - 2s - loss: 0.2902 - acc: 0.9081\n",
      "Epoch 7/10\n",
      " - 2s - loss: 0.2901 - acc: 0.9082\n",
      "Epoch 8/10\n",
      " - 2s - loss: 0.2901 - acc: 0.9083\n",
      "Epoch 9/10\n",
      " - 2s - loss: 0.2901 - acc: 0.9084\n",
      "Epoch 10/10\n",
      " - 2s - loss: 0.2901 - acc: 0.9082\n"
     ]
    },
    {
     "data": {
      "text/plain": [
       "<keras.callbacks.History at 0x1ba2da5908>"
      ]
     },
     "execution_count": 54,
     "metadata": {},
     "output_type": "execute_result"
    }
   ],
   "source": [
    "model = giveedgemodel()\n",
    "model.fit(Xtrain_jaccard, ytrain_jaccard, epochs=10, batch_size=100,  verbose=2)"
   ]
  },
  {
   "cell_type": "code",
   "execution_count": 55,
   "metadata": {},
   "outputs": [
    {
     "name": "stdout",
     "output_type": "stream",
     "text": [
      "Accuracy  0.906\n",
      "Precision  0.934\n",
      "Recall  0.874\n",
      "F1 Score  0.903\n"
     ]
    }
   ],
   "source": [
    "ytestpred = [round(x[0]) for x in model.predict(Xtest_jaccard)]\n",
    "giveresults(Ytest_jaccard,ytestpred)"
   ]
  },
  {
   "cell_type": "code",
   "execution_count": 60,
   "metadata": {},
   "outputs": [
    {
     "name": "stdout",
     "output_type": "stream",
     "text": [
      "Epoch 1/10\n",
      " - 5s - loss: 0.3213 - acc: 0.8797\n",
      "Epoch 2/10\n",
      " - 4s - loss: 0.2248 - acc: 0.9186\n",
      "Epoch 3/10\n",
      " - 4s - loss: 0.2130 - acc: 0.9245\n",
      "Epoch 4/10\n",
      " - 4s - loss: 0.2055 - acc: 0.9272\n",
      "Epoch 5/10\n",
      " - 4s - loss: 0.2003 - acc: 0.9288\n",
      "Epoch 6/10\n",
      " - 4s - loss: 0.2056 - acc: 0.9288\n",
      "Epoch 7/10\n",
      " - 4s - loss: 0.1943 - acc: 0.9310\n",
      "Epoch 8/10\n",
      " - 4s - loss: 0.1931 - acc: 0.9315\n",
      "Epoch 9/10\n",
      " - 4s - loss: 0.1913 - acc: 0.9315\n",
      "Epoch 10/10\n",
      " - 4s - loss: 0.1878 - acc: 0.9326\n"
     ]
    },
    {
     "data": {
      "text/plain": [
       "<keras.callbacks.History at 0x1ba32b42b0>"
      ]
     },
     "execution_count": 60,
     "metadata": {},
     "output_type": "execute_result"
    }
   ],
   "source": [
    "def givemodelusingbothfeats():\n",
    "    model = Sequential()\n",
    "    model.add(Dense(26, input_dim=39, kernel_initializer='uniform', activation='relu'))\n",
    "    model.add(Dense(18, kernel_initializer='uniform', activation='relu'))\n",
    "    model.add(Dense(1, kernel_initializer='uniform', activation='sigmoid'))\n",
    "    model.compile(loss='binary_crossentropy', optimizer='adam', metrics=['accuracy'])\n",
    "    return model\n",
    "    \n",
    "model = givemodelusingbothfeats()\n",
    "model.fit(Xtrain_both, ytrain_both, epochs=10, batch_size=100,  verbose=2)"
   ]
  },
  {
   "cell_type": "code",
   "execution_count": 61,
   "metadata": {},
   "outputs": [
    {
     "name": "stdout",
     "output_type": "stream",
     "text": [
      "Accuracy  0.933\n",
      "Precision  0.938\n",
      "Recall  0.927\n",
      "F1 Score  0.932\n"
     ]
    }
   ],
   "source": [
    "ytestpred = [round(x[0]) for x in model.predict(Xtest_both)]\n",
    "giveresults(Ytest_both,ytestpred)"
   ]
  },
  {
   "cell_type": "code",
   "execution_count": 64,
   "metadata": {},
   "outputs": [
    {
     "name": "stdout",
     "output_type": "stream",
     "text": [
      "Epoch 1/10\n",
      " - 6s - loss: 0.4714 - acc: 0.8005\n",
      "Epoch 2/10\n",
      " - 4s - loss: 0.4308 - acc: 0.8131\n",
      "Epoch 3/10\n",
      " - 4s - loss: 0.4158 - acc: 0.8194\n",
      "Epoch 4/10\n",
      " - 4s - loss: 0.4040 - acc: 0.8230\n",
      "Epoch 5/10\n",
      " - 4s - loss: 0.3976 - acc: 0.8260\n",
      "Epoch 6/10\n",
      " - 4s - loss: 0.3916 - acc: 0.8276\n",
      "Epoch 7/10\n",
      " - 4s - loss: 0.3887 - acc: 0.8294\n",
      "Epoch 8/10\n",
      " - 4s - loss: 0.3831 - acc: 0.8323\n",
      "Epoch 9/10\n",
      " - 4s - loss: 0.3800 - acc: 0.8328\n",
      "Epoch 10/10\n",
      " - 5s - loss: 0.3765 - acc: 0.8340\n"
     ]
    },
    {
     "data": {
      "text/plain": [
       "<keras.callbacks.History at 0x1d2114f048>"
      ]
     },
     "execution_count": 64,
     "metadata": {},
     "output_type": "execute_result"
    }
   ],
   "source": [
    "model = givemodelusingbothfeats()\n",
    "model.fit(Xtrain_bothjaccard, ytrain_bothjaccard, epochs=10, batch_size=100,  verbose=2)"
   ]
  },
  {
   "cell_type": "code",
   "execution_count": 65,
   "metadata": {},
   "outputs": [
    {
     "name": "stdout",
     "output_type": "stream",
     "text": [
      "Accuracy  0.832\n",
      "Precision  0.809\n",
      "Recall  0.869\n",
      "F1 Score  0.838\n"
     ]
    }
   ],
   "source": [
    "ytestpred = [round(x[0]) for x in model.predict(Xtest_bothjaccard)]\n",
    "giveresults(Ytest_bothjaccard,ytestpred)"
   ]
  },
  {
   "cell_type": "code",
   "execution_count": 68,
   "metadata": {},
   "outputs": [
    {
     "name": "stdout",
     "output_type": "stream",
     "text": [
      "Epoch 1/10\n",
      " - 5s - loss: 0.4798 - acc: 0.7998\n",
      "Epoch 2/10\n",
      " - 4s - loss: 0.4378 - acc: 0.8127\n",
      "Epoch 3/10\n",
      " - 4s - loss: 0.4274 - acc: 0.8168\n",
      "Epoch 4/10\n",
      " - 4s - loss: 0.4196 - acc: 0.8201\n",
      "Epoch 5/10\n",
      " - 4s - loss: 0.4163 - acc: 0.8216\n",
      "Epoch 6/10\n",
      " - 4s - loss: 0.4090 - acc: 0.8243\n",
      "Epoch 7/10\n",
      " - 4s - loss: 0.4062 - acc: 0.8257\n",
      "Epoch 8/10\n",
      " - 4s - loss: 0.4056 - acc: 0.8254\n",
      "Epoch 9/10\n",
      " - 4s - loss: 0.4040 - acc: 0.8270\n",
      "Epoch 10/10\n",
      " - 4s - loss: 0.4016 - acc: 0.8278\n"
     ]
    },
    {
     "data": {
      "text/plain": [
       "<keras.callbacks.History at 0x1ba5b63828>"
      ]
     },
     "execution_count": 68,
     "metadata": {},
     "output_type": "execute_result"
    }
   ],
   "source": [
    "def givenodemodel():\n",
    "    model = Sequential()\n",
    "    model.add(Dense(24, input_dim=36, kernel_initializer='uniform', activation='relu'))\n",
    "    model.add(Dense(16, kernel_initializer='uniform', activation='relu'))\n",
    "    model.add(Dense(1, kernel_initializer='uniform', activation='sigmoid'))\n",
    "    model.compile(loss='binary_crossentropy', optimizer='adam', metrics=['accuracy'])\n",
    "    return model\n",
    "    \n",
    "model = givenodemodel()\n",
    "model.fit(Xtrain_node, ytrain_node, epochs=10, batch_size=100,  verbose=2)"
   ]
  },
  {
   "cell_type": "code",
   "execution_count": 69,
   "metadata": {},
   "outputs": [
    {
     "name": "stdout",
     "output_type": "stream",
     "text": [
      "Accuracy  0.823\n",
      "Precision  0.847\n",
      "Recall  0.789\n",
      "F1 Score  0.817\n"
     ]
    }
   ],
   "source": [
    "ytestpred = [round(x[0]) for x in model.predict(Xtest_node)]\n",
    "giveresults(Ytest_node,ytestpred)"
   ]
  }
 ],
 "metadata": {
  "kernelspec": {
   "display_name": "Python 3",
   "language": "python",
   "name": "python3"
  },
  "language_info": {
   "codemirror_mode": {
    "name": "ipython",
    "version": 3
   },
   "file_extension": ".py",
   "mimetype": "text/x-python",
   "name": "python",
   "nbconvert_exporter": "python",
   "pygments_lexer": "ipython3",
   "version": "3.7.2"
  }
 },
 "nbformat": 4,
 "nbformat_minor": 2
}
